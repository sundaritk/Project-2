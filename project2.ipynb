{
 "cells": [
  {
   "cell_type": "code",
   "execution_count": 1,
   "metadata": {},
   "outputs": [],
   "source": [
    "import pandas as pd\n",
    "import dask.dataframe as dd\n",
    "import glob, os  "
   ]
  },
  {
   "cell_type": "code",
   "execution_count": 2,
   "metadata": {},
   "outputs": [],
   "source": [
    "col_list=['GEO_ID','NAME','S1201_C01_001E','S1201_C01_002E','S1201_C01_003E','S1201_C01_004E','S1201_C01_005E','S1201_C01_006E','S1201_C01_007E','S1201_C01_008E','S1201_C01_009E','S1201_C01_010E','S1201_C01_011E','S1201_C01_012E','S1201_C01_013E','S1201_C01_014E','S1201_C01_015E','S1201_C01_016E','S1201_C01_017E','S1201_C01_018E','S1201_C01_019E','S1201_C01_020E','S1201_C01_021E','S1201_C01_022E','S1201_C01_023E','S1201_C01_024E','S1201_C01_025E','S1201_C01_026E','S1201_C01_027E','S1201_C01_028E','S1201_C01_029E','S1201_C01_030E','S1201_C01_031E','S1201_C02_001E','S1201_C02_002E','S1201_C02_003E','S1201_C02_004E','S1201_C02_005E','S1201_C02_006E','S1201_C02_007E','S1201_C02_008E','S1201_C02_009E','S1201_C02_010E','S1201_C02_011E','S1201_C02_012E','S1201_C02_013E','S1201_C02_014E','S1201_C02_015E','S1201_C02_016E','S1201_C02_017E','S1201_C02_018E','S1201_C02_019E','S1201_C02_020E','S1201_C02_021E','S1201_C02_022E','S1201_C02_023E','S1201_C02_024E','S1201_C02_025E','S1201_C02_026E','S1201_C02_027E','S1201_C02_028E','S1201_C02_029E','S1201_C02_030E','S1201_C02_031E','S1201_C03_001E','S1201_C03_002E','S1201_C03_003E','S1201_C03_004E','S1201_C03_005E','S1201_C03_006E','S1201_C03_007E','S1201_C03_008E','S1201_C03_009E','S1201_C03_010E','S1201_C03_011E','S1201_C03_012E','S1201_C03_013E','S1201_C03_014E','S1201_C03_015E','S1201_C03_016E','S1201_C03_017E','S1201_C03_018E','S1201_C03_019E','S1201_C03_020E','S1201_C03_021E','S1201_C03_022E','S1201_C03_023E','S1201_C03_024E','S1201_C03_025E','S1201_C03_026E','S1201_C03_027E','S1201_C03_028E','S1201_C03_029E','S1201_C03_030E','S1201_C03_031E','S1201_C04_001E','S1201_C04_002E','S1201_C04_003E','S1201_C04_004E','S1201_C04_005E','S1201_C04_006E','S1201_C04_007E','S1201_C04_008E','S1201_C04_009E','S1201_C04_010E','S1201_C04_011E','S1201_C04_012E','S1201_C04_013E','S1201_C04_014E','S1201_C04_015E','S1201_C04_016E','S1201_C04_017E','S1201_C04_018E','S1201_C04_019E','S1201_C04_020E','S1201_C04_021E','S1201_C04_022E','S1201_C04_023E','S1201_C04_024E','S1201_C04_025E','S1201_C04_026E','S1201_C04_027E','S1201_C04_028E','S1201_C04_029E','S1201_C04_030E','S1201_C04_031E','S1201_C05_001E','S1201_C05_002E','S1201_C05_003E','S1201_C05_004E','S1201_C05_005E','S1201_C05_006E','S1201_C05_007E','S1201_C05_008E','S1201_C05_009E','S1201_C05_010E','S1201_C05_011E','S1201_C05_012E','S1201_C05_013E','S1201_C05_014E','S1201_C05_015E','S1201_C05_016E','S1201_C05_017E','S1201_C05_018E','S1201_C05_019E','S1201_C05_020E','S1201_C05_021E','S1201_C05_022E','S1201_C05_023E','S1201_C05_024E','S1201_C05_025E','S1201_C05_026E','S1201_C05_027E','S1201_C05_028E','S1201_C05_029E','S1201_C05_030E','S1201_C05_031E','S1201_C06_001E','S1201_C06_002E','S1201_C06_003E','S1201_C06_004E','S1201_C06_005E','S1201_C06_006E','S1201_C06_007E','S1201_C06_008E','S1201_C06_009E','S1201_C06_010E','S1201_C06_011E','S1201_C06_012E','S1201_C06_013E','S1201_C06_014E','S1201_C06_015E','S1201_C06_016E','S1201_C06_017E','S1201_C06_018E','S1201_C06_019E','S1201_C06_020E','S1201_C06_021E','S1201_C06_022E','S1201_C06_023E','S1201_C06_024E','S1201_C06_025E','S1201_C06_026E','S1201_C06_027E','S1201_C06_028E','S1201_C06_029E','S1201_C06_030E','S1201_C06_031E']"
   ]
  },
  {
   "cell_type": "code",
   "execution_count": 4,
   "metadata": {},
   "outputs": [],
   "source": [
    "files = glob.glob(\"Resources/data/Resources/*.csv\")\n",
    "df = pd.concat([pd.read_csv(fp,usecols=col_list).assign(New=os.path.basename(fp).split('.')[0]) for fp in files],sort=False)"
   ]
  },
  {
   "cell_type": "code",
   "execution_count": 5,
   "metadata": {},
   "outputs": [],
   "source": [
    "df.reset_index(level=0, inplace=True)"
   ]
  },
  {
   "cell_type": "code",
   "execution_count": 6,
   "metadata": {},
   "outputs": [],
   "source": [
    "dffilter=df[df['index']==1]"
   ]
  },
  {
   "cell_type": "code",
   "execution_count": 7,
   "metadata": {},
   "outputs": [],
   "source": [
    "dffilter=dffilter.drop(['index'], axis=1)\n",
    "dffilter.to_csv('marriageDetails.csv', index=False)"
   ]
  },
  {
   "cell_type": "code",
   "execution_count": null,
   "metadata": {},
   "outputs": [],
   "source": [
    "df_ACSST1Y2018=df[df['New'].isin(['ACSST1Y2018'])]\n",
    "new_header = df_ACSST1Y2018.iloc[0] \n",
    "df_ACSST1Y2018 = df_ACSST1Y2018[1:] \n",
    "df_ACSST1Y2018.columns = new_header"
   ]
  },
  {
   "cell_type": "code",
   "execution_count": null,
   "metadata": {},
   "outputs": [],
   "source": [
    "df_ACSST1Y2018"
   ]
  },
  {
   "cell_type": "code",
   "execution_count": null,
   "metadata": {},
   "outputs": [],
   "source": [
    "for year in range(len(yearFile)):\n",
    "    varName=f'df{yearFile[year]}'\n",
    "    print(varName)\n",
    "    exec(varName=df[df['New'].isin(list(yearFile[year]))])\n",
    "    "
   ]
  },
  {
   "cell_type": "code",
   "execution_count": null,
   "metadata": {},
   "outputs": [],
   "source": [
    "dfACSST1Y2018"
   ]
  },
  {
   "cell_type": "code",
   "execution_count": null,
   "metadata": {},
   "outputs": [],
   "source": [
    "df_ACSST1Y2010=df[df['New'].isin(['ACSST1Y2010'])]\n",
    "new_header = df_ACSST1Y2010.iloc[0] \n",
    "df_ACSST1Y2010 = df_ACSST1Y2010[1:] \n",
    "df_ACSST1Y2010.columns = new_header"
   ]
  },
  {
   "cell_type": "code",
   "execution_count": null,
   "metadata": {},
   "outputs": [],
   "source": [
    "df_ACSST1Y2011=df[df['New'].isin(['ACSST1Y2011'])]\n",
    "new_header = df_ACSST1Y2011.iloc[0] \n",
    "df_ACSST1Y2011 = df_ACSST1Y2011[1:] \n",
    "df_ACSST1Y2011.columns = new_header"
   ]
  },
  {
   "cell_type": "code",
   "execution_count": null,
   "metadata": {},
   "outputs": [],
   "source": [
    "df_ACSST1Y2012=df[df['New'].isin(['ACSST1Y2012'])]\n",
    "new_header = df_ACSST1Y2012.iloc[0] \n",
    "df_ACSST1Y2012 = df_ACSST1Y2012[1:] \n",
    "df_ACSST1Y2012.columns = new_header"
   ]
  },
  {
   "cell_type": "code",
   "execution_count": null,
   "metadata": {},
   "outputs": [],
   "source": [
    "df_ACSST1Y2013=df[df['New'].isin(['ACSST1Y2013'])]\n",
    "new_header = df_ACSST1Y2013.iloc[0] \n",
    "df_ACSST1Y2013 = df_ACSST1Y2013[1:] \n",
    "df_ACSST1Y2013.columns = new_header"
   ]
  },
  {
   "cell_type": "code",
   "execution_count": null,
   "metadata": {},
   "outputs": [],
   "source": [
    "df_ACSST1Y2014=df[df['New'].isin(['ACSST1Y2014'])]\n",
    "new_header = df_ACSST1Y2014.iloc[0] \n",
    "df_ACSST1Y2014 = df_ACSST1Y2014[1:] \n",
    "df_ACSST1Y2014.columns = new_header"
   ]
  },
  {
   "cell_type": "code",
   "execution_count": null,
   "metadata": {},
   "outputs": [],
   "source": [
    "df_ACSST1Y2015=df[df['New'].isin(['ACSST1Y2015'])]\n",
    "new_header = df_ACSST1Y2015.iloc[0] \n",
    "df_ACSST1Y2015 = df_ACSST1Y2015[1:] \n",
    "df_ACSST1Y2015.columns = new_header"
   ]
  },
  {
   "cell_type": "code",
   "execution_count": null,
   "metadata": {},
   "outputs": [],
   "source": [
    "df_ACSST1Y2016=df[df['New'].isin(['ACSST1Y2016'])]\n",
    "new_header = df_ACSST1Y2016.iloc[0] \n",
    "df_ACSST1Y2016 = df_ACSST1Y2016[1:] \n",
    "df_ACSST1Y2016.columns = new_header"
   ]
  },
  {
   "cell_type": "code",
   "execution_count": null,
   "metadata": {},
   "outputs": [],
   "source": [
    "df_ACSST1Y2017=df[df['New'].isin(['ACSST1Y2017'])]\n",
    "new_header = df_ACSST1Y2017.iloc[0] \n",
    "df_ACSST1Y2017 = df_ACSST1Y2017[1:] \n",
    "df_ACSST1Y2017.columns = new_header"
   ]
  },
  {
   "cell_type": "code",
   "execution_count": null,
   "metadata": {},
   "outputs": [],
   "source": [
    "df_ACSST1Y2017"
   ]
  },
  {
   "cell_type": "code",
   "execution_count": null,
   "metadata": {},
   "outputs": [],
   "source": []
  }
 ],
 "metadata": {
  "kernelspec": {
   "display_name": "Python 3",
   "language": "python",
   "name": "python3"
  },
  "language_info": {
   "codemirror_mode": {
    "name": "ipython",
    "version": 3
   },
   "file_extension": ".py",
   "mimetype": "text/x-python",
   "name": "python",
   "nbconvert_exporter": "python",
   "pygments_lexer": "ipython3",
   "version": "3.6.9"
  }
 },
 "nbformat": 4,
 "nbformat_minor": 4
}
